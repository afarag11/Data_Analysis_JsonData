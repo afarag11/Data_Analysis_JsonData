{
 "cells": [
  {
   "cell_type": "code",
   "execution_count": null,
   "metadata": {},
   "outputs": [],
   "source": [
    "# Task: Extract the data for the following features and make it into a dataframe"
   ]
  },
  {
   "cell_type": "code",
   "execution_count": null,
   "metadata": {},
   "outputs": [],
   "source": [
    "import json\n",
    "import pandas as pd"
   ]
  },
  {
   "cell_type": "code",
   "execution_count": null,
   "metadata": {},
   "outputs": [],
   "source": [
    "filepath = \"../datasets/MoCoViolations_2018.json\""
   ]
  },
  {
   "cell_type": "code",
   "execution_count": null,
   "metadata": {},
   "outputs": [],
   "source": [
    "#read file and load it in as JSON in variable \"data\"\n",
    "with open(filepath, 'r') as file:\n",
    "    vio_data = json.load(file)"
   ]
  },
  {
   "cell_type": "code",
   "execution_count": null,
   "metadata": {},
   "outputs": [],
   "source": [
    "vio_data.keys()"
   ]
  },
  {
   "cell_type": "code",
   "execution_count": null,
   "metadata": {},
   "outputs": [],
   "source": [
    "#see structure of JSON data\n",
    "vio_data"
   ]
  },
  {
   "cell_type": "code",
   "execution_count": null,
   "metadata": {},
   "outputs": [],
   "source": [
    "#the value of the \"data\" key in the JSON violation data\n",
    "vio_data['data']"
   ]
  },
  {
   "cell_type": "code",
   "execution_count": null,
   "metadata": {},
   "outputs": [],
   "source": [
    "#the value in the \"data\" key is a list\n",
    "type(vio_data['data'])"
   ]
  },
  {
   "cell_type": "code",
   "execution_count": null,
   "metadata": {},
   "outputs": [],
   "source": [
    "#this list contains all the traffic violations for this dataset\n",
    "len(vio_data['data'])"
   ]
  },
  {
   "cell_type": "code",
   "execution_count": null,
   "metadata": {},
   "outputs": [],
   "source": [
    "#set list to a variable\n",
    "violations = vio_data['data']"
   ]
  },
  {
   "cell_type": "code",
   "execution_count": null,
   "metadata": {},
   "outputs": [],
   "source": [
    "#the values in the violations list are also a list\n",
    "#see the first item in the violations list\n",
    "violations[0]"
   ]
  },
  {
   "cell_type": "code",
   "execution_count": null,
   "metadata": {},
   "outputs": [],
   "source": [
    "#dictionary to hold values from JSON dataset\n",
    "vio_dict = {'date':[], 'time':[], 'agency':[], 'subagency':[], 'description':[], 'location':[], \n",
    "            'latitude':[], 'longitude':[],'vehicle_type':[], 'vehicle_year':[], 'vehicle_make':[], \n",
    "            'vehicle_model':[], 'vehicle_color':[],'violation_type':[], 'driver_race':[], \n",
    "            'driver_gender':[], 'driver_state':[], 'license_state':[], 'arrest_type':[]}\n",
    "\n",
    "#for each traffic violation in the list of all violations\n",
    "for violation in violations:\n",
    "    \n",
    "    #get the info for the item's position in the list\n",
    "    #append it to the empty list in the dictionary for that key variable\n",
    "    vio_dict['date'].append(violation[9])\n",
    "    vio_dict['time'].append(violation[10])\n",
    "    vio_dict['agency'].append(violation[11])\n",
    "    vio_dict['subagency'].append(violation[12])\n",
    "    vio_dict['description'].append(violation[13])\n",
    "    vio_dict['location'].append(violation[14])\n",
    "    vio_dict['latitude'].append(violation[15])\n",
    "    vio_dict['longitude'].append(violation[16])\n",
    "    vio_dict['vehicle_type'].append(violation[28])\n",
    "    vio_dict['vehicle_year'].append(violation[29])\n",
    "    vio_dict['vehicle_make'].append(violation[30])\n",
    "    vio_dict['vehicle_model'].append(violation[31])\n",
    "    vio_dict['vehicle_color'].append(violation[32])\n",
    "    vio_dict['violation_type'].append(violation[33])\n",
    "    vio_dict['driver_race'].append(violation[37])\n",
    "    vio_dict['driver_gender'].append(violation[38])\n",
    "    vio_dict['driver_state'].append(violation[40])\n",
    "    vio_dict['license_state'].append(violation[41])\n",
    "    vio_dict['arrest_type'].append(violation[42])"
   ]
  },
  {
   "cell_type": "code",
   "execution_count": null,
   "metadata": {},
   "outputs": [],
   "source": [
    "#make dictionary into a dataframe\n",
    "vio_df = pd.DataFrame(vio_dict)"
   ]
  },
  {
   "cell_type": "code",
   "execution_count": null,
   "metadata": {},
   "outputs": [],
   "source": [
    "#view first 5 rows of dataframe\n",
    "vio_df.head()"
   ]
  }
 ],
 "metadata": {
  "kernelspec": {
   "display_name": "Python 3",
   "language": "python",
   "name": "python3"
  },
  "language_info": {
   "codemirror_mode": {
    "name": "ipython",
    "version": 3
   },
   "file_extension": ".py",
   "mimetype": "text/x-python",
   "name": "python",
   "nbconvert_exporter": "python",
   "pygments_lexer": "ipython3",
   "version": "3.7.4"
  }
 },
 "nbformat": 4,
 "nbformat_minor": 2
}
